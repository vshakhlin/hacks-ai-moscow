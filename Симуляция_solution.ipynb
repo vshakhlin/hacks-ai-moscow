{
  "nbformat": 4,
  "nbformat_minor": 0,
  "metadata": {
    "colab": {
      "provenance": [],
      "collapsed_sections": []
    },
    "kernelspec": {
      "name": "python3",
      "display_name": "Python 3"
    },
    "language_info": {
      "name": "python"
    }
  },
  "cells": [
    {
      "cell_type": "markdown",
      "source": [
        "## Загрузим нужные библиотеки"
      ],
      "metadata": {
        "id": "qb_ajqWXuguV"
      }
    },
    {
      "cell_type": "code",
      "execution_count": 67,
      "metadata": {
        "id": "MTgpe_1quUDs"
      },
      "outputs": [],
      "source": [
        "import pandas as pd\n",
        "import seaborn as sns\n",
        "import matplotlib.pyplot as plt\n",
        "from sklearn.model_selection import train_test_split\n",
        "from sklearn.ensemble import RandomForestClassifier\n",
        "from sklearn import tree\n",
        "import numpy as np\n",
        "from sklearn.metrics import recall_score, precision_score, mean_absolute_error, mean_squared_error, accuracy_score\n",
        "\n",
        "import plotly.express as px\n",
        "\n",
        "%matplotlib inline"
      ]
    },
    {
      "cell_type": "markdown",
      "source": [
        "В этом примере мы попробуем предсказать итоговую оценку участинка только на основе **его действий**"
      ],
      "metadata": {
        "id": "CuiD_q2pFOLC"
      }
    },
    {
      "cell_type": "code",
      "source": [
        "df_train_source = pd.read_csv(\"/content/train_dataset_train.csv\")\n",
        "df_test_source = pd.read_csv('/content/sample_solution.csv')\n",
        "df_decision = pd.read_csv(\"/content/user_decision.csv\")"
      ],
      "metadata": {
        "id": "o9N4JbcWudk2"
      },
      "execution_count": 68,
      "outputs": []
    },
    {
      "cell_type": "code",
      "source": [
        "df_user = pd.read_csv(\"/content/user.csv\")"
      ],
      "metadata": {
        "id": "zCxHY0Xb3gT7"
      },
      "execution_count": 69,
      "outputs": []
    },
    {
      "cell_type": "code",
      "source": [
        "df_team = pd.read_csv(\"/content/team_point.csv\")"
      ],
      "metadata": {
        "id": "HvCV3C3M269m"
      },
      "execution_count": 70,
      "outputs": []
    },
    {
      "cell_type": "markdown",
      "source": [
        "### Подготовка данных для обучения, преобразование всех действий для игрока в вектора, где в каждый индекс записано количество действий совершенных игроком в ходе игры"
      ],
      "metadata": {
        "id": "VPQTArE-TRnD"
      }
    },
    {
      "cell_type": "code",
      "source": [
        "new_x_train = []\n",
        "new_y_train_analytical_thinking = []\n",
        "new_y_train_systemic_thinking = []\n",
        "new_y_train_adaptability = []\n",
        "new_y_train_focus = []\n",
        "\n",
        "dict_new_x_train = {}\n",
        "dict_new_y_train_analytical_thinking = {}\n",
        "dict_new_y_train_systemic_thinking = {}\n",
        "dict_new_y_train_adaptability = {}\n",
        "dict_new_y_train_focus = {}\n",
        "\n",
        "new_x_test = []\n",
        "new_y_test_analytical_thinking = []\n",
        "new_y_test_systemic_thinking = []\n",
        "new_y_test_adaptability = []\n",
        "new_y_test_focus = []\n",
        "\n",
        "dict_new_x_test = {}\n",
        "dict_new_y_test_analytical_thinking = {}\n",
        "dict_new_y_test_systemic_thinking = {}\n",
        "dict_new_y_test_adaptability = {}\n",
        "dict_new_y_test_focus = {}"
      ],
      "metadata": {
        "id": "TkKFF33EXEpJ"
      },
      "execution_count": 71,
      "outputs": []
    },
    {
      "cell_type": "code",
      "source": [
        "use_team = False"
      ],
      "metadata": {
        "id": "j-lYj-D9mPc2"
      },
      "execution_count": 73,
      "outputs": []
    },
    {
      "cell_type": "code",
      "source": [
        "use_period = False"
      ],
      "metadata": {
        "id": "2xiWYnFPmdSw"
      },
      "execution_count": 74,
      "outputs": []
    },
    {
      "cell_type": "code",
      "source": [
        "# проходим по всем коммандам\n",
        "for idx, row in df_user.iterrows():\n",
        "  user_id = row['user_id']\n",
        "  \n",
        "  # получаем всех игроков в команде\n",
        "  users_in_team = df_user[df_user['team_id'] == row['team_id']]['user_id'].values\n",
        "  # вектор решений всей команды\n",
        "  decision_team = [0] * 438\n",
        "  \n",
        "  if use_team:\n",
        "    # проходим по игрокам в команде\n",
        "    for user_in_team_id in users_in_team:\n",
        "      # получаем действия игрога команды\n",
        "      user_decisions = df_decision[df_decision['user_id'] == user_in_team_id]['decision_id'].values\n",
        "\n",
        "      count_val = 2 if user_id == user_in_team_id else 1\n",
        "      for user_decision in user_decisions:\n",
        "        # каждое действие это индекс прибавляем счетчик действий\n",
        "        decision_team[user_decision] += count_val\n",
        "  elif use_period:\n",
        "    user_decisions = df_decision[df_decision['user_id'] == user_id]\n",
        "    for idx_user, row_decision in user_decisions.iterrows():\n",
        "      decision_id = row_decision['decision_id']\n",
        "      period = row_decision['period']\n",
        "      # каждое действие это индекс прибавляем счетчик действий\n",
        "      decision_team[decision_id] += 1 * period\n",
        "  else:\n",
        "    user_decisions = df_decision[df_decision['user_id'] == user_id]['decision_id'].values\n",
        "    for user_decision in user_decisions:\n",
        "      # каждое действие это индекс прибавляем счетчик действий\n",
        "      decision_team[user_decision] += 1\n",
        "\n",
        "  \n",
        "\n",
        "  # получаем оценки игрока команды\n",
        "  rates = df_train_source[df_train_source['id'] == user_id]\n",
        "  analytical_thinking = rates['Analytical thinking'].values\n",
        "  systemic_thinking = rates['Systemic thinking'].values\n",
        "  adaptability = rates['Adaptability'].values\n",
        "  focus = rates['Focus'].values\n",
        "\n",
        "  rates_test = df_test_source[df_test_source['id'] == user_id]\n",
        "  analytical_thinking_test = rates_test['Analytical thinking'].values\n",
        "  systemic_thinking_test = rates_test['Systemic thinking'].values\n",
        "  adaptability_test = rates_test['Adaptability'].values\n",
        "  focus_test = rates_test['Focus'].values\n",
        "\n",
        "  if len(analytical_thinking) > 0:\n",
        "    dict_new_x_train[user_id] = decision_team\n",
        "    dict_new_y_train_analytical_thinking[user_id] = analytical_thinking[0]\n",
        "    dict_new_y_train_systemic_thinking[user_id] = systemic_thinking[0]\n",
        "    dict_new_y_train_adaptability[user_id] = adaptability[0]\n",
        "    dict_new_y_train_focus[user_id] = focus[0]\n",
        "\n",
        "  if len(analytical_thinking_test) > 0:\n",
        "    dict_new_x_test[user_id] = decision_team\n",
        "    dict_new_y_test_analytical_thinking[user_id] = analytical_thinking_test[0]\n",
        "    dict_new_y_test_systemic_thinking[user_id] = systemic_thinking_test[0]\n",
        "    dict_new_y_test_adaptability[user_id] = adaptability_test[0]\n",
        "    dict_new_y_test_focus[user_id] = focus_test[0]\n"
      ],
      "metadata": {
        "id": "JvYMVatUXSKa"
      },
      "execution_count": 75,
      "outputs": []
    },
    {
      "cell_type": "code",
      "source": [
        "for idx, row in df_train_source.iterrows():\n",
        "  user_id = row['id']\n",
        "  new_x_train.append(dict_new_x_train[user_id])\n",
        "  new_y_train_analytical_thinking.append(dict_new_y_train_analytical_thinking[user_id])\n",
        "  new_y_train_systemic_thinking.append(dict_new_y_train_systemic_thinking[user_id])\n",
        "  new_y_train_adaptability.append(dict_new_y_train_adaptability[user_id])\n",
        "  new_y_train_focus.append(dict_new_y_train_focus[user_id])"
      ],
      "metadata": {
        "id": "CdJOOaAGbp_r"
      },
      "execution_count": 76,
      "outputs": []
    },
    {
      "cell_type": "code",
      "source": [
        "for idx, row in df_test_source.iterrows():\n",
        "  user_id = row['id']\n",
        "  new_x_test.append(dict_new_x_test[user_id])\n",
        "  new_y_test_analytical_thinking.append(dict_new_y_test_analytical_thinking[user_id])\n",
        "  new_y_test_systemic_thinking.append(dict_new_y_test_systemic_thinking[user_id])\n",
        "  new_y_test_adaptability.append(dict_new_y_test_adaptability[user_id])\n",
        "  new_y_test_focus.append(dict_new_y_test_focus[user_id])"
      ],
      "metadata": {
        "id": "LCAIPI7v83ot"
      },
      "execution_count": 77,
      "outputs": []
    },
    {
      "cell_type": "code",
      "source": [
        "new_x_train = np.array(new_x_train)\n",
        "new_y_train_analytical_thinking = np.array(new_y_train_analytical_thinking)\n",
        "new_y_train_systemic_thinking = np.array(new_y_train_systemic_thinking)\n",
        "new_y_train_adaptability = np.array(new_y_train_adaptability)\n",
        "new_y_train_focus = np.array(new_y_train_focus)\n",
        "new_x_test = np.array(new_x_test)\n",
        "new_y_test_analytical_thinking = np.array(new_y_test_analytical_thinking)\n",
        "new_y_test_systemic_thinking = np.array(new_y_test_systemic_thinking)\n",
        "new_y_test_adaptability = np.array(new_y_test_adaptability)\n",
        "new_y_test_focus = np.array(new_y_test_focus)"
      ],
      "metadata": {
        "id": "vPxtQHaFXUBD"
      },
      "execution_count": 78,
      "outputs": []
    },
    {
      "cell_type": "markdown",
      "source": [
        "### Удаление действий которых никогда не было за все игры"
      ],
      "metadata": {
        "id": "Zga-JBuELAQ5"
      }
    },
    {
      "cell_type": "code",
      "source": [
        "df_temp1 = pd.DataFrame(new_x_train, columns = range(438))"
      ],
      "metadata": {
        "id": "tfF8Da3DmxpI"
      },
      "execution_count": 79,
      "outputs": []
    },
    {
      "cell_type": "code",
      "source": [
        "df_temp3 = pd.DataFrame(new_x_test, columns = range(438))"
      ],
      "metadata": {
        "id": "EpC3OdgQoiaP"
      },
      "execution_count": 80,
      "outputs": []
    },
    {
      "cell_type": "code",
      "source": [
        "zero_indexes = [0,\n",
        " 2,\n",
        " 19,\n",
        " 20,\n",
        " 22,\n",
        " 23,\n",
        " 24,\n",
        " 37,\n",
        " 38,\n",
        " 39,\n",
        " 40,\n",
        " 41,\n",
        " 43,\n",
        " 45,\n",
        " 157,\n",
        " 158,\n",
        " 162,\n",
        " 163,\n",
        " 164,\n",
        " 169,\n",
        " 198,\n",
        " 208,\n",
        " 215,\n",
        " 217,\n",
        " 218,\n",
        " 221,\n",
        " 222,\n",
        " 223,\n",
        " 224,\n",
        " 225,\n",
        " 226,\n",
        " 227,\n",
        " 234,\n",
        " 236,\n",
        " 237,\n",
        " 238,\n",
        " 240,\n",
        " 241,\n",
        " 242,\n",
        " 243,\n",
        " 257,\n",
        " 260,\n",
        " 262,\n",
        " 263,\n",
        " 264,\n",
        " 279,\n",
        " 280,\n",
        " 281,\n",
        " 282,\n",
        " 283,\n",
        " 299,\n",
        " 305,\n",
        " 348,\n",
        " 349,\n",
        " 350,\n",
        " 351,\n",
        " 352,\n",
        " 353,\n",
        " 354,\n",
        " 355,\n",
        " 356,\n",
        " 357,\n",
        " 358,\n",
        " 359,\n",
        " 360,\n",
        " 361,\n",
        " 362,\n",
        " 363,\n",
        " 364,\n",
        " 365,\n",
        " 366,\n",
        " 367,\n",
        " 368,\n",
        " 369,\n",
        " 370,\n",
        " 371,\n",
        " 372,\n",
        " 373,\n",
        " 374,\n",
        " 375,\n",
        " 376,\n",
        " 377,\n",
        " 395,\n",
        " 396,\n",
        " 397,\n",
        " 398,\n",
        " 399,\n",
        " 400,\n",
        " 401,\n",
        " 402,\n",
        " 403,\n",
        " 404,\n",
        " 416,\n",
        " 417,\n",
        " 431]"
      ],
      "metadata": {
        "id": "5AX17zy2r3S1"
      },
      "execution_count": 81,
      "outputs": []
    },
    {
      "cell_type": "code",
      "source": [
        "df_temp1 = df_temp1.drop(df_temp1.columns[zero_indexes],axis=1)"
      ],
      "metadata": {
        "id": "fzzY7OETs_ke"
      },
      "execution_count": 82,
      "outputs": []
    },
    {
      "cell_type": "code",
      "source": [
        "df_temp3 = df_temp3.drop(df_temp3.columns[zero_indexes],axis=1)"
      ],
      "metadata": {
        "id": "ntaGo1B-tNWY"
      },
      "execution_count": 83,
      "outputs": []
    },
    {
      "cell_type": "code",
      "source": [
        "new_x_train = df_temp1.to_numpy()"
      ],
      "metadata": {
        "id": "6N9EX-QVtPpB"
      },
      "execution_count": 84,
      "outputs": []
    },
    {
      "cell_type": "code",
      "source": [
        "new_x_test = df_temp3.to_numpy()"
      ],
      "metadata": {
        "id": "3mdxP7Uctj-x"
      },
      "execution_count": 85,
      "outputs": []
    },
    {
      "cell_type": "markdown",
      "source": [
        "## Обучение модели"
      ],
      "metadata": {
        "id": "X_HOvpXy2e3S"
      }
    },
    {
      "cell_type": "code",
      "source": [
        "from sklearn.tree import DecisionTreeClassifier"
      ],
      "metadata": {
        "id": "DfXeZtRW3zBl"
      },
      "execution_count": 86,
      "outputs": []
    },
    {
      "cell_type": "code",
      "source": [
        "from sklearn.experimental import enable_hist_gradient_boosting"
      ],
      "metadata": {
        "id": "NWsAj3KhSOqo"
      },
      "execution_count": 87,
      "outputs": []
    },
    {
      "cell_type": "code",
      "source": [
        "from sklearn.svm import LinearSVC"
      ],
      "metadata": {
        "id": "_Z1uqgnI4rF7"
      },
      "execution_count": 88,
      "outputs": []
    },
    {
      "cell_type": "code",
      "source": [
        "from sklearn.ensemble import AdaBoostClassifier, HistGradientBoostingClassifier, ExtraTreesClassifier"
      ],
      "metadata": {
        "id": "eP5cCFKB4Oro"
      },
      "execution_count": 89,
      "outputs": []
    },
    {
      "cell_type": "code",
      "source": [
        "from sklearn.discriminant_analysis import LinearDiscriminantAnalysis"
      ],
      "metadata": {
        "id": "pXq-Kycp4omK"
      },
      "execution_count": 90,
      "outputs": []
    },
    {
      "cell_type": "code",
      "source": [
        "from sklearn.linear_model import SGDClassifier, PassiveAggressiveClassifier"
      ],
      "metadata": {
        "id": "R0EefOXdRgh3"
      },
      "execution_count": 91,
      "outputs": []
    },
    {
      "cell_type": "code",
      "source": [
        "from sklearn.neural_network import MLPClassifier"
      ],
      "metadata": {
        "id": "EzJ4sLVo4Was"
      },
      "execution_count": 92,
      "outputs": []
    },
    {
      "cell_type": "markdown",
      "source": [
        "## systemic thinking"
      ],
      "metadata": {
        "id": "Xqi7uPah4W1K"
      }
    },
    {
      "cell_type": "code",
      "source": [
        "X_train, X_validation, Y_train, Y_validation = train_test_split(new_x_train, new_y_train_systemic_thinking, train_size=0.90, random_state=45)"
      ],
      "metadata": {
        "id": "uM05mkO_MxE7"
      },
      "execution_count": 93,
      "outputs": []
    },
    {
      "cell_type": "code",
      "source": [
        "st_hgc1 = HistGradientBoostingClassifier(early_stopping=False,\n",
        "                                 l2_regularization=1.0179394834253815e-10,\n",
        "                                 learning_rate=0.263564230193214, max_iter=512,\n",
        "                                 min_samples_leaf=35, n_iter_no_change=0,\n",
        "                                 random_state=1, validation_fraction=None,\n",
        "                                 warm_start=True)\n",
        "st_hgc1.fit(X_train, Y_train)\n",
        "hgc1_pred = st_hgc1.predict(X_validation)\n",
        "print('Accuracy: ', accuracy_score(Y_validation, hgc1_pred))\n",
        "print('MAE: ', mean_absolute_error(Y_validation, hgc1_pred))\n",
        "print('Recall: ', recall_score(Y_validation, hgc1_pred, average='macro', zero_division=True))"
      ],
      "metadata": {
        "colab": {
          "base_uri": "https://localhost:8080/"
        },
        "id": "h0aj5YksODO-",
        "outputId": "b53d20ba-43a6-4d94-dc7c-64d8bee697e2"
      },
      "execution_count": 94,
      "outputs": [
        {
          "output_type": "stream",
          "name": "stdout",
          "text": [
            "Accuracy:  0.8795180722891566\n",
            "MAE:  0.12650602409638553\n",
            "Recall:  0.675672514619883\n"
          ]
        }
      ]
    },
    {
      "cell_type": "code",
      "source": [
        "st_hgc1 = HistGradientBoostingClassifier(early_stopping=False,\n",
        "                                 l2_regularization=1.0179394834253815e-10,\n",
        "                                 learning_rate=0.263564230193214, max_iter=512,\n",
        "                                 min_samples_leaf=35, n_iter_no_change=0,\n",
        "                                 random_state=1, validation_fraction=None,\n",
        "                                 warm_start=True)\n",
        "st_hgc1.fit(new_x_train, new_y_train_systemic_thinking)\n",
        "hgc1_pred = st_hgc1.predict(X_validation)\n",
        "print(accuracy_score(Y_validation, hgc1_pred))\n",
        "print(mean_absolute_error(Y_validation, hgc1_pred))\n",
        "print(recall_score(Y_validation, hgc1_pred, average='macro', zero_division=True))"
      ],
      "metadata": {
        "colab": {
          "base_uri": "https://localhost:8080/"
        },
        "id": "SWrvmOozuJQA",
        "outputId": "13941a86-4a59-4e50-f631-07af541367fe"
      },
      "execution_count": 95,
      "outputs": [
        {
          "output_type": "stream",
          "name": "stdout",
          "text": [
            "1.0\n",
            "0.0\n",
            "1.0\n"
          ]
        }
      ]
    },
    {
      "cell_type": "markdown",
      "source": [
        "### test predict"
      ],
      "metadata": {
        "id": "6WtEZ_DDYpBO"
      }
    },
    {
      "cell_type": "code",
      "source": [
        "test_systemic_thinking = st_hgc1.predict(new_x_test)"
      ],
      "metadata": {
        "id": "bknlFj-dYn7a"
      },
      "execution_count": 96,
      "outputs": []
    },
    {
      "cell_type": "code",
      "source": [
        "test_systemic_thinking"
      ],
      "metadata": {
        "colab": {
          "base_uri": "https://localhost:8080/"
        },
        "id": "12AqOVcyY0jB",
        "outputId": "8e007350-066f-49a6-82d9-fb3df8d302f3"
      },
      "execution_count": 97,
      "outputs": [
        {
          "output_type": "execute_result",
          "data": {
            "text/plain": [
              "array([3., 4., 4., 4., 4., 4., 6., 4., 4., 3., 4., 4., 4., 4., 5., 5., 4.,\n",
              "       5., 4., 4., 4., 4., 4., 4., 1., 4., 5., 4., 4., 5., 4., 6., 4., 4.,\n",
              "       4., 4., 4., 4., 4., 4., 5., 4., 4., 4., 4., 4., 5., 3., 4., 4., 4.,\n",
              "       4., 4., 4., 4., 4., 4., 5., 4., 4., 5., 4., 4., 4., 4., 4., 4., 4.,\n",
              "       4., 4., 5., 4., 4., 4., 4., 5., 3., 4., 4., 4., 4., 4., 4., 5., 4.,\n",
              "       4., 4., 4., 5., 3., 4., 4., 5., 3., 4., 4., 3., 4., 4., 5., 4., 4.,\n",
              "       4., 3., 4., 5., 4., 4., 4., 4., 4., 4., 4., 4., 4., 4., 4., 5., 4.,\n",
              "       4., 5., 5., 5., 3., 4., 4., 4., 4., 4., 6., 4., 4., 5., 4., 4., 4.,\n",
              "       4., 4., 4., 3., 4., 3., 5., 4., 4., 4., 4., 5., 5., 4., 4., 4., 5.,\n",
              "       5., 4., 4., 3., 5., 5., 4., 4., 4., 1., 4., 4., 4., 4., 4., 4., 4.,\n",
              "       4., 4., 4., 4., 3., 4., 4., 4., 4., 5., 4., 3., 4., 4., 5., 4., 4.,\n",
              "       4., 4., 4., 5., 4., 4., 4., 4., 4., 4., 4., 4., 5., 3., 5., 4., 4.,\n",
              "       6., 5., 4., 5., 4., 4., 5., 4., 4., 4., 5., 4., 4., 4., 4., 4., 4.,\n",
              "       4., 4., 4., 4., 3., 4., 4., 4., 4., 6., 4., 4., 4., 4., 5., 3., 3.,\n",
              "       4., 4., 5., 4., 4., 4., 4., 4., 4., 4., 3., 4., 4., 3., 4., 4., 5.,\n",
              "       3., 4., 6., 4., 3., 4., 3., 4., 4., 4., 4., 5., 4., 4., 5., 4., 5.,\n",
              "       4., 4., 3., 4., 5., 4., 5., 4., 4., 4., 4., 4., 5., 5., 3., 4., 5.,\n",
              "       4., 4., 3., 4.])"
            ]
          },
          "metadata": {},
          "execution_count": 97
        }
      ]
    },
    {
      "cell_type": "markdown",
      "source": [
        "## Analytical thinking"
      ],
      "metadata": {
        "id": "8YuZ7d_fWYLA"
      }
    },
    {
      "cell_type": "code",
      "source": [
        "X_train, X_validation, Y_train, Y_validation = train_test_split(new_x_train, new_y_train_analytical_thinking, train_size=0.90, random_state=45)"
      ],
      "metadata": {
        "id": "96a8Isa-NQC6"
      },
      "execution_count": 98,
      "outputs": []
    },
    {
      "cell_type": "code",
      "source": [
        "at_hgc1 = RandomForestClassifier(max_features=32, n_estimators=512, n_jobs=1,\n",
        "                         random_state=1, warm_start=True)\n",
        "at_hgc1.fit(X_train, Y_train)\n",
        "hgc1_pred = at_hgc1.predict(X_validation)\n",
        "print('Accuracy: ', accuracy_score(Y_validation, hgc1_pred))\n",
        "print('MAE: ', mean_absolute_error(Y_validation, hgc1_pred))\n",
        "print('Recall: ', recall_score(Y_validation, hgc1_pred, average='macro', zero_division=True))"
      ],
      "metadata": {
        "colab": {
          "base_uri": "https://localhost:8080/"
        },
        "id": "3sxuFHJ2VXlC",
        "outputId": "3c434991-044a-4506-8998-eb8e736a0bf5"
      },
      "execution_count": 99,
      "outputs": [
        {
          "output_type": "stream",
          "name": "stdout",
          "text": [
            "Accuracy:  0.8855421686746988\n",
            "MAE:  0.1144578313253012\n",
            "Recall:  0.8419825376959295\n"
          ]
        }
      ]
    },
    {
      "cell_type": "code",
      "source": [
        "at_hgc1 = RandomForestClassifier(max_features=32, n_estimators=512, n_jobs=1,\n",
        "                         random_state=1, warm_start=True)\n",
        "at_hgc1.fit(new_x_train, new_y_train_analytical_thinking)\n",
        "hgc1_pred = at_hgc1.predict(X_validation)\n",
        "print(accuracy_score(Y_validation, hgc1_pred))\n",
        "print(mean_absolute_error(Y_validation, hgc1_pred))\n",
        "print(recall_score(Y_validation, hgc1_pred, average='macro', zero_division=True))"
      ],
      "metadata": {
        "colab": {
          "base_uri": "https://localhost:8080/"
        },
        "id": "P4w6JheYomel",
        "outputId": "6d223618-ca20-4e16-8980-f56215a2d020"
      },
      "execution_count": 100,
      "outputs": [
        {
          "output_type": "stream",
          "name": "stdout",
          "text": [
            "1.0\n",
            "0.0\n",
            "1.0\n"
          ]
        }
      ]
    },
    {
      "cell_type": "markdown",
      "source": [
        "### test predict"
      ],
      "metadata": {
        "id": "9yUPldkfY5xt"
      }
    },
    {
      "cell_type": "code",
      "source": [
        "test_analytical_thinking = at_hgc1.predict(new_x_test)"
      ],
      "metadata": {
        "id": "kQ_hx7R3Y7_A"
      },
      "execution_count": 101,
      "outputs": []
    },
    {
      "cell_type": "code",
      "source": [
        "test_analytical_thinking"
      ],
      "metadata": {
        "colab": {
          "base_uri": "https://localhost:8080/"
        },
        "id": "37SojajKZFCl",
        "outputId": "0836d890-c3ba-4ea8-aaeb-924a5d7ec8ac"
      },
      "execution_count": 102,
      "outputs": [
        {
          "output_type": "execute_result",
          "data": {
            "text/plain": [
              "array([4., 4., 3., 4., 5., 5., 6., 5., 5., 4., 4., 5., 4., 4., 6., 5., 4.,\n",
              "       5., 5., 4., 4., 5., 4., 4., 3., 4., 5., 4., 4., 5., 4., 6., 4., 5.,\n",
              "       4., 4., 3., 4., 5., 4., 5., 4., 5., 4., 5., 4., 4., 4., 4., 4., 4.,\n",
              "       4., 4., 4., 4., 4., 4., 5., 4., 4., 5., 4., 5., 5., 4., 4., 4., 4.,\n",
              "       4., 5., 4., 4., 4., 4., 4., 5., 4., 4., 4., 5., 4., 4., 4., 4., 5.,\n",
              "       4., 5., 4., 5., 4., 4., 5., 4., 4., 4., 4., 3., 5., 4., 5., 5., 5.,\n",
              "       5., 4., 4., 5., 4., 4., 4., 5., 4., 5., 5., 4., 4., 5., 5., 5., 4.,\n",
              "       4., 5., 5., 5., 4., 4., 5., 4., 4., 4., 5., 4., 4., 4., 4., 4., 4.,\n",
              "       4., 5., 4., 4., 4., 4., 6., 4., 4., 4., 4., 4., 4., 5., 5., 3., 4.,\n",
              "       6., 4., 4., 3., 4., 5., 4., 4., 4., 3., 5., 5., 4., 4., 5., 4., 4.,\n",
              "       4., 5., 4., 5., 4., 4., 4., 4., 5., 4., 5., 4., 5., 4., 4., 5., 5.,\n",
              "       5., 5., 5., 4., 4., 4., 4., 4., 5., 4., 4., 4., 4., 4., 5., 5., 4.,\n",
              "       5., 5., 4., 4., 4., 4., 4., 4., 5., 5., 5., 4., 4., 4., 4., 4., 4.,\n",
              "       4., 5., 4., 5., 4., 4., 4., 5., 4., 6., 4., 4., 4., 4., 5., 3., 4.,\n",
              "       5., 4., 5., 4., 5., 4., 4., 4., 4., 4., 4., 4., 5., 3., 5., 3., 4.,\n",
              "       4., 4., 6., 4., 3., 4., 4., 4., 4., 5., 4., 6., 4., 4., 5., 4., 5.,\n",
              "       4., 4., 4., 4., 5., 4., 4., 4., 4., 5., 4., 4., 5., 5., 3., 3., 5.,\n",
              "       4., 4., 3., 4.])"
            ]
          },
          "metadata": {},
          "execution_count": 102
        }
      ]
    },
    {
      "cell_type": "markdown",
      "source": [
        "## Adaptability"
      ],
      "metadata": {
        "id": "0_Wh80FefCZB"
      }
    },
    {
      "cell_type": "code",
      "source": [
        "X_train, X_validation, Y_train, Y_validation = train_test_split(new_x_train, new_y_train_adaptability, train_size=0.90, random_state=45)"
      ],
      "metadata": {
        "id": "AOQp06dwNomh"
      },
      "execution_count": 103,
      "outputs": []
    },
    {
      "cell_type": "code",
      "source": [
        "ad_hgc1 = RandomForestClassifier(max_features=8, n_estimators=512, n_jobs=1,\n",
        "                         random_state=1, warm_start=True)\n",
        "ad_hgc1.fit(X_train, Y_train)\n",
        "hgc1_pred = ad_hgc1.predict(X_validation)\n",
        "print('Accuracy: ', accuracy_score(Y_validation, hgc1_pred))\n",
        "print('MAE: ', mean_absolute_error(Y_validation, hgc1_pred))\n",
        "print('Recall: ', recall_score(Y_validation, hgc1_pred, average='macro', zero_division=True))"
      ],
      "metadata": {
        "colab": {
          "base_uri": "https://localhost:8080/"
        },
        "id": "0Fh77CQ5enWa",
        "outputId": "64b93eee-d019-46a0-abe1-1d73d5a98f1e"
      },
      "execution_count": 104,
      "outputs": [
        {
          "output_type": "stream",
          "name": "stdout",
          "text": [
            "Accuracy:  0.891566265060241\n",
            "MAE:  0.1144578313253012\n",
            "Recall:  0.7381538461538462\n"
          ]
        }
      ]
    },
    {
      "cell_type": "code",
      "source": [
        "ad_hgc1 = RandomForestClassifier(max_features=8, n_estimators=512, n_jobs=1,\n",
        "                         random_state=1, warm_start=True)\n",
        "ad_hgc1.fit(new_x_train, new_y_train_adaptability)\n",
        "hgc1_pred = ad_hgc1.predict(X_validation)\n",
        "print(accuracy_score(Y_validation, hgc1_pred))\n",
        "print(mean_absolute_error(Y_validation, hgc1_pred))\n",
        "print(recall_score(Y_validation, hgc1_pred, average='macro', zero_division=True))"
      ],
      "metadata": {
        "colab": {
          "base_uri": "https://localhost:8080/"
        },
        "id": "WHyyvRslKdJr",
        "outputId": "4afbc35c-532f-4c48-ba5c-eb65069b99f3"
      },
      "execution_count": 105,
      "outputs": [
        {
          "output_type": "stream",
          "name": "stdout",
          "text": [
            "1.0\n",
            "0.0\n",
            "1.0\n"
          ]
        }
      ]
    },
    {
      "cell_type": "code",
      "source": [],
      "metadata": {
        "id": "2P8KYq-sZHbK"
      },
      "execution_count": null,
      "outputs": []
    },
    {
      "cell_type": "markdown",
      "source": [
        "### test predict"
      ],
      "metadata": {
        "id": "zvzShiF3L8GM"
      }
    },
    {
      "cell_type": "code",
      "source": [
        "test_adaptability = ad_hgc1.predict(new_x_test)"
      ],
      "metadata": {
        "id": "ZmNo9vRQZMHD"
      },
      "execution_count": 106,
      "outputs": []
    },
    {
      "cell_type": "code",
      "source": [
        "test_adaptability"
      ],
      "metadata": {
        "colab": {
          "base_uri": "https://localhost:8080/"
        },
        "outputId": "f965fe3d-396b-4f21-9562-e925bf2bdc00",
        "id": "4P5Ha0KSZMHE"
      },
      "execution_count": 107,
      "outputs": [
        {
          "output_type": "execute_result",
          "data": {
            "text/plain": [
              "array([5., 5., 4., 4., 5., 4., 5., 5., 5., 4., 4., 5., 4., 5., 5., 5., 4.,\n",
              "       5., 5., 4., 5., 5., 5., 5., 1., 5., 5., 4., 4., 4., 4., 5., 4., 5.,\n",
              "       5., 4., 4., 4., 5., 5., 5., 4., 5., 5., 5., 5., 5., 4., 5., 4., 5.,\n",
              "       5., 4., 4., 4., 5., 5., 5., 4., 4., 5., 5., 5., 5., 4., 5., 5., 5.,\n",
              "       5., 5., 5., 4., 5., 4., 4., 5., 3., 4., 5., 5., 5., 4., 5., 5., 5.,\n",
              "       4., 5., 4., 5., 4., 4., 4., 4., 4., 5., 5., 4., 4., 5., 5., 4., 4.,\n",
              "       5., 4., 4., 4., 5., 5., 4., 5., 4., 5., 5., 5., 4., 5., 5., 5., 5.,\n",
              "       4., 4., 5., 5., 4., 4., 5., 5., 5., 4., 5., 4., 4., 5., 5., 5., 5.,\n",
              "       5., 5., 4., 4., 4., 4., 5., 4., 5., 4., 4., 5., 5., 5., 5., 4., 5.,\n",
              "       5., 5., 5., 4., 4., 5., 4., 4., 5., 1., 5., 5., 4., 4., 4., 5., 5.,\n",
              "       4., 5., 4., 4., 4., 4., 5., 4., 5., 4., 5., 5., 5., 4., 5., 5., 5.,\n",
              "       4., 5., 5., 5., 5., 5., 5., 4., 5., 4., 5., 5., 5., 4., 5., 4., 5.,\n",
              "       5., 5., 4., 5., 4., 4., 4., 4., 5., 4., 5., 5., 4., 5., 5., 5., 5.,\n",
              "       4., 4., 4., 5., 5., 5., 4., 5., 4., 6., 4., 4., 4., 4., 5., 4., 4.,\n",
              "       4., 5., 5., 5., 4., 4., 5., 5., 5., 5., 4., 5., 5., 4., 5., 4., 4.,\n",
              "       4., 4., 5., 4., 4., 4., 4., 5., 4., 5., 4., 5., 4., 5., 5., 4., 5.,\n",
              "       5., 5., 4., 4., 5., 4., 5., 5., 4., 5., 5., 5., 5., 5., 3., 4., 5.,\n",
              "       5., 5., 3., 4.])"
            ]
          },
          "metadata": {},
          "execution_count": 107
        }
      ]
    },
    {
      "cell_type": "markdown",
      "source": [
        "## Focus"
      ],
      "metadata": {
        "id": "YLhZrAGsVRZs"
      }
    },
    {
      "cell_type": "code",
      "source": [
        "X_train, X_validation, Y_train, Y_validation = train_test_split(new_x_train, new_y_train_focus, train_size=0.90, random_state=45)"
      ],
      "metadata": {
        "id": "oUq2ebDF4rvx"
      },
      "execution_count": 108,
      "outputs": []
    },
    {
      "cell_type": "code",
      "source": [
        "f_hgc1 = RandomForestClassifier(max_features=4, n_estimators=512, n_jobs=1,\n",
        "                         random_state=1, warm_start=True)\n",
        "f_hgc1.fit(X_train, Y_train)\n",
        "hgc1_pred = f_hgc1.predict(X_validation)\n",
        "print('Accuracy: ', accuracy_score(Y_validation, hgc1_pred))\n",
        "print('MAE: ', mean_absolute_error(Y_validation, hgc1_pred))\n",
        "print('Recall: ', recall_score(Y_validation, hgc1_pred, average='macro', zero_division=True))"
      ],
      "metadata": {
        "colab": {
          "base_uri": "https://localhost:8080/"
        },
        "id": "BrbBolfTnsdd",
        "outputId": "5bf2dc9d-59db-4f4d-a214-1ac942f5f9b7"
      },
      "execution_count": 109,
      "outputs": [
        {
          "output_type": "stream",
          "name": "stdout",
          "text": [
            "Accuracy:  0.8855421686746988\n",
            "MAE:  0.1144578313253012\n",
            "Recall:  0.8542517006802721\n"
          ]
        }
      ]
    },
    {
      "cell_type": "code",
      "source": [
        "f_hgc1 = RandomForestClassifier(max_features=4, n_estimators=512, n_jobs=1,\n",
        "                         random_state=1, warm_start=True)\n",
        "f_hgc1.fit(new_x_train, new_y_train_focus)\n",
        "hgc1_pred = f_hgc1.predict(X_validation)\n",
        "print(accuracy_score(Y_validation, hgc1_pred))\n",
        "print(mean_absolute_error(Y_validation, hgc1_pred))\n",
        "print(recall_score(Y_validation, hgc1_pred, average='macro', zero_division=True))"
      ],
      "metadata": {
        "colab": {
          "base_uri": "https://localhost:8080/"
        },
        "id": "9qa69X7Cg4wI",
        "outputId": "16e61198-d82c-495c-a72d-33dc03404e6b"
      },
      "execution_count": 110,
      "outputs": [
        {
          "output_type": "stream",
          "name": "stdout",
          "text": [
            "1.0\n",
            "0.0\n",
            "1.0\n"
          ]
        }
      ]
    },
    {
      "cell_type": "code",
      "source": [],
      "metadata": {
        "id": "kkSKgF_hZSOc"
      },
      "execution_count": null,
      "outputs": []
    },
    {
      "cell_type": "markdown",
      "source": [
        "### test predict"
      ],
      "metadata": {
        "id": "QTyWLE9wMcBA"
      }
    },
    {
      "cell_type": "code",
      "source": [
        "test_focus = f_hgc1.predict(new_x_test)"
      ],
      "metadata": {
        "id": "qXSbK8vRZSSQ"
      },
      "execution_count": 111,
      "outputs": []
    },
    {
      "cell_type": "code",
      "source": [
        "test_focus"
      ],
      "metadata": {
        "colab": {
          "base_uri": "https://localhost:8080/"
        },
        "outputId": "382015b8-e09d-4671-a543-8f6a278d6329",
        "id": "8zF7GhzrZSSQ"
      },
      "execution_count": 112,
      "outputs": [
        {
          "output_type": "execute_result",
          "data": {
            "text/plain": [
              "array([4., 5., 4., 4., 4., 4., 5., 5., 4., 3., 4., 4., 4., 4., 5., 5., 4.,\n",
              "       4., 5., 4., 5., 4., 4., 4., 3., 5., 5., 5., 4., 4., 4., 5., 3., 5.,\n",
              "       4., 4., 4., 4., 5., 4., 4., 4., 4., 4., 5., 5., 5., 4., 4., 4., 4.,\n",
              "       4., 5., 4., 4., 5., 4., 5., 4., 3., 5., 5., 4., 5., 4., 4., 5., 4.,\n",
              "       4., 5., 4., 4., 4., 4., 5., 5., 3., 5., 4., 5., 4., 4., 4., 5., 4.,\n",
              "       4., 5., 3., 5., 4., 4., 4., 5., 4., 4., 5., 4., 4., 4., 5., 4., 4.,\n",
              "       5., 3., 4., 4., 4., 4., 4., 5., 4., 5., 4., 4., 4., 5., 5., 4., 5.,\n",
              "       4., 5., 4., 5., 4., 4., 4., 5., 4., 4., 5., 4., 4., 5., 5., 5., 5.,\n",
              "       4., 4., 5., 4., 4., 3., 5., 5., 4., 3., 5., 4., 4., 4., 5., 4., 4.,\n",
              "       5., 4., 4., 4., 4., 6., 4., 5., 4., 3., 5., 5., 4., 3., 4., 4., 5.,\n",
              "       4., 4., 4., 4., 3., 4., 4., 4., 5., 4., 4., 4., 4., 4., 5., 5., 4.,\n",
              "       5., 4., 4., 4., 4., 5., 5., 4., 5., 4., 4., 5., 5., 4., 5., 4., 4.,\n",
              "       5., 5., 5., 4., 4., 4., 4., 4., 4., 5., 5., 4., 3., 4., 5., 4., 4.,\n",
              "       5., 4., 4., 5., 4., 4., 4., 4., 4., 5., 4., 4., 4., 4., 5., 5., 4.,\n",
              "       4., 5., 5., 4., 4., 4., 4., 5., 5., 5., 4., 4., 5., 4., 5., 4., 4.,\n",
              "       3., 4., 5., 4., 4., 4., 4., 4., 4., 5., 4., 6., 4., 4., 5., 4., 5.,\n",
              "       4., 4., 3., 4., 5., 4., 5., 4., 5., 5., 5., 5., 5., 5., 3., 4., 5.,\n",
              "       4., 4., 3., 4.])"
            ]
          },
          "metadata": {},
          "execution_count": 112
        }
      ]
    },
    {
      "cell_type": "code",
      "source": [],
      "metadata": {
        "id": "zAg4TQPDZ3Mf"
      },
      "execution_count": null,
      "outputs": []
    },
    {
      "cell_type": "markdown",
      "source": [
        "### Заполение результатов предсказания и сохранение в csv"
      ],
      "metadata": {
        "id": "D0zJWd0tMd44"
      }
    },
    {
      "cell_type": "code",
      "source": [
        "df_test_source['Analytical thinking'] = test_analytical_thinking\n",
        "df_test_source['Systemic thinking'] = test_systemic_thinking\n",
        "df_test_source['Adaptability'] = test_adaptability\n",
        "df_test_source['Focus'] = test_focus"
      ],
      "metadata": {
        "id": "u3qGG5rnZWvo"
      },
      "execution_count": 113,
      "outputs": []
    },
    {
      "cell_type": "code",
      "source": [
        "df_test_source"
      ],
      "metadata": {
        "colab": {
          "base_uri": "https://localhost:8080/",
          "height": 424
        },
        "id": "eZAc0_xOhgsz",
        "outputId": "4f207128-8c8d-480c-e4fb-24ca68785b97"
      },
      "execution_count": 114,
      "outputs": [
        {
          "output_type": "execute_result",
          "data": {
            "text/plain": [
              "        id  Analytical thinking  Systemic thinking  Adaptability  Focus\n",
              "0    10199                  4.0                3.0           5.0    4.0\n",
              "1    10539                  4.0                4.0           5.0    5.0\n",
              "2    10174                  3.0                4.0           4.0    4.0\n",
              "3    10465                  4.0                4.0           4.0    4.0\n",
              "4    10066                  5.0                4.0           5.0    4.0\n",
              "..     ...                  ...                ...           ...    ...\n",
              "288  10433                  5.0                5.0           5.0    5.0\n",
              "289  10893                  4.0                4.0           5.0    4.0\n",
              "290  10909                  4.0                4.0           5.0    4.0\n",
              "291  10889                  3.0                3.0           3.0    3.0\n",
              "292  10613                  4.0                4.0           4.0    4.0\n",
              "\n",
              "[293 rows x 5 columns]"
            ],
            "text/html": [
              "\n",
              "  <div id=\"df-845b26c5-e5b3-4574-bef6-c3831f471135\">\n",
              "    <div class=\"colab-df-container\">\n",
              "      <div>\n",
              "<style scoped>\n",
              "    .dataframe tbody tr th:only-of-type {\n",
              "        vertical-align: middle;\n",
              "    }\n",
              "\n",
              "    .dataframe tbody tr th {\n",
              "        vertical-align: top;\n",
              "    }\n",
              "\n",
              "    .dataframe thead th {\n",
              "        text-align: right;\n",
              "    }\n",
              "</style>\n",
              "<table border=\"1\" class=\"dataframe\">\n",
              "  <thead>\n",
              "    <tr style=\"text-align: right;\">\n",
              "      <th></th>\n",
              "      <th>id</th>\n",
              "      <th>Analytical thinking</th>\n",
              "      <th>Systemic thinking</th>\n",
              "      <th>Adaptability</th>\n",
              "      <th>Focus</th>\n",
              "    </tr>\n",
              "  </thead>\n",
              "  <tbody>\n",
              "    <tr>\n",
              "      <th>0</th>\n",
              "      <td>10199</td>\n",
              "      <td>4.0</td>\n",
              "      <td>3.0</td>\n",
              "      <td>5.0</td>\n",
              "      <td>4.0</td>\n",
              "    </tr>\n",
              "    <tr>\n",
              "      <th>1</th>\n",
              "      <td>10539</td>\n",
              "      <td>4.0</td>\n",
              "      <td>4.0</td>\n",
              "      <td>5.0</td>\n",
              "      <td>5.0</td>\n",
              "    </tr>\n",
              "    <tr>\n",
              "      <th>2</th>\n",
              "      <td>10174</td>\n",
              "      <td>3.0</td>\n",
              "      <td>4.0</td>\n",
              "      <td>4.0</td>\n",
              "      <td>4.0</td>\n",
              "    </tr>\n",
              "    <tr>\n",
              "      <th>3</th>\n",
              "      <td>10465</td>\n",
              "      <td>4.0</td>\n",
              "      <td>4.0</td>\n",
              "      <td>4.0</td>\n",
              "      <td>4.0</td>\n",
              "    </tr>\n",
              "    <tr>\n",
              "      <th>4</th>\n",
              "      <td>10066</td>\n",
              "      <td>5.0</td>\n",
              "      <td>4.0</td>\n",
              "      <td>5.0</td>\n",
              "      <td>4.0</td>\n",
              "    </tr>\n",
              "    <tr>\n",
              "      <th>...</th>\n",
              "      <td>...</td>\n",
              "      <td>...</td>\n",
              "      <td>...</td>\n",
              "      <td>...</td>\n",
              "      <td>...</td>\n",
              "    </tr>\n",
              "    <tr>\n",
              "      <th>288</th>\n",
              "      <td>10433</td>\n",
              "      <td>5.0</td>\n",
              "      <td>5.0</td>\n",
              "      <td>5.0</td>\n",
              "      <td>5.0</td>\n",
              "    </tr>\n",
              "    <tr>\n",
              "      <th>289</th>\n",
              "      <td>10893</td>\n",
              "      <td>4.0</td>\n",
              "      <td>4.0</td>\n",
              "      <td>5.0</td>\n",
              "      <td>4.0</td>\n",
              "    </tr>\n",
              "    <tr>\n",
              "      <th>290</th>\n",
              "      <td>10909</td>\n",
              "      <td>4.0</td>\n",
              "      <td>4.0</td>\n",
              "      <td>5.0</td>\n",
              "      <td>4.0</td>\n",
              "    </tr>\n",
              "    <tr>\n",
              "      <th>291</th>\n",
              "      <td>10889</td>\n",
              "      <td>3.0</td>\n",
              "      <td>3.0</td>\n",
              "      <td>3.0</td>\n",
              "      <td>3.0</td>\n",
              "    </tr>\n",
              "    <tr>\n",
              "      <th>292</th>\n",
              "      <td>10613</td>\n",
              "      <td>4.0</td>\n",
              "      <td>4.0</td>\n",
              "      <td>4.0</td>\n",
              "      <td>4.0</td>\n",
              "    </tr>\n",
              "  </tbody>\n",
              "</table>\n",
              "<p>293 rows × 5 columns</p>\n",
              "</div>\n",
              "      <button class=\"colab-df-convert\" onclick=\"convertToInteractive('df-845b26c5-e5b3-4574-bef6-c3831f471135')\"\n",
              "              title=\"Convert this dataframe to an interactive table.\"\n",
              "              style=\"display:none;\">\n",
              "        \n",
              "  <svg xmlns=\"http://www.w3.org/2000/svg\" height=\"24px\"viewBox=\"0 0 24 24\"\n",
              "       width=\"24px\">\n",
              "    <path d=\"M0 0h24v24H0V0z\" fill=\"none\"/>\n",
              "    <path d=\"M18.56 5.44l.94 2.06.94-2.06 2.06-.94-2.06-.94-.94-2.06-.94 2.06-2.06.94zm-11 1L8.5 8.5l.94-2.06 2.06-.94-2.06-.94L8.5 2.5l-.94 2.06-2.06.94zm10 10l.94 2.06.94-2.06 2.06-.94-2.06-.94-.94-2.06-.94 2.06-2.06.94z\"/><path d=\"M17.41 7.96l-1.37-1.37c-.4-.4-.92-.59-1.43-.59-.52 0-1.04.2-1.43.59L10.3 9.45l-7.72 7.72c-.78.78-.78 2.05 0 2.83L4 21.41c.39.39.9.59 1.41.59.51 0 1.02-.2 1.41-.59l7.78-7.78 2.81-2.81c.8-.78.8-2.07 0-2.86zM5.41 20L4 18.59l7.72-7.72 1.47 1.35L5.41 20z\"/>\n",
              "  </svg>\n",
              "      </button>\n",
              "      \n",
              "  <style>\n",
              "    .colab-df-container {\n",
              "      display:flex;\n",
              "      flex-wrap:wrap;\n",
              "      gap: 12px;\n",
              "    }\n",
              "\n",
              "    .colab-df-convert {\n",
              "      background-color: #E8F0FE;\n",
              "      border: none;\n",
              "      border-radius: 50%;\n",
              "      cursor: pointer;\n",
              "      display: none;\n",
              "      fill: #1967D2;\n",
              "      height: 32px;\n",
              "      padding: 0 0 0 0;\n",
              "      width: 32px;\n",
              "    }\n",
              "\n",
              "    .colab-df-convert:hover {\n",
              "      background-color: #E2EBFA;\n",
              "      box-shadow: 0px 1px 2px rgba(60, 64, 67, 0.3), 0px 1px 3px 1px rgba(60, 64, 67, 0.15);\n",
              "      fill: #174EA6;\n",
              "    }\n",
              "\n",
              "    [theme=dark] .colab-df-convert {\n",
              "      background-color: #3B4455;\n",
              "      fill: #D2E3FC;\n",
              "    }\n",
              "\n",
              "    [theme=dark] .colab-df-convert:hover {\n",
              "      background-color: #434B5C;\n",
              "      box-shadow: 0px 1px 3px 1px rgba(0, 0, 0, 0.15);\n",
              "      filter: drop-shadow(0px 1px 2px rgba(0, 0, 0, 0.3));\n",
              "      fill: #FFFFFF;\n",
              "    }\n",
              "  </style>\n",
              "\n",
              "      <script>\n",
              "        const buttonEl =\n",
              "          document.querySelector('#df-845b26c5-e5b3-4574-bef6-c3831f471135 button.colab-df-convert');\n",
              "        buttonEl.style.display =\n",
              "          google.colab.kernel.accessAllowed ? 'block' : 'none';\n",
              "\n",
              "        async function convertToInteractive(key) {\n",
              "          const element = document.querySelector('#df-845b26c5-e5b3-4574-bef6-c3831f471135');\n",
              "          const dataTable =\n",
              "            await google.colab.kernel.invokeFunction('convertToInteractive',\n",
              "                                                     [key], {});\n",
              "          if (!dataTable) return;\n",
              "\n",
              "          const docLinkHtml = 'Like what you see? Visit the ' +\n",
              "            '<a target=\"_blank\" href=https://colab.research.google.com/notebooks/data_table.ipynb>data table notebook</a>'\n",
              "            + ' to learn more about interactive tables.';\n",
              "          element.innerHTML = '';\n",
              "          dataTable['output_type'] = 'display_data';\n",
              "          await google.colab.output.renderOutput(dataTable, element);\n",
              "          const docLink = document.createElement('div');\n",
              "          docLink.innerHTML = docLinkHtml;\n",
              "          element.appendChild(docLink);\n",
              "        }\n",
              "      </script>\n",
              "    </div>\n",
              "  </div>\n",
              "  "
            ]
          },
          "metadata": {},
          "execution_count": 114
        }
      ]
    },
    {
      "cell_type": "code",
      "source": [
        "df_test_source.to_csv('simple.csv', index=False)"
      ],
      "metadata": {
        "id": "yO6-K-gdhh7P"
      },
      "execution_count": 115,
      "outputs": []
    }
  ]
}